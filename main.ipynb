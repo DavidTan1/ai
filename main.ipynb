{
 "cells": [
  {
   "cell_type": "markdown",
   "metadata": {},
   "source": [
    " ### Option 1: Load CIFAR 10 (Locally) using load_cifar_10.py file"
   ]
  },
  {
   "cell_type": "code",
   "execution_count": 117,
   "metadata": {},
   "outputs": [],
   "source": [
    "from load_cifar_10 import load_data"
   ]
  },
  {
   "cell_type": "code",
   "execution_count": 118,
   "metadata": {},
   "outputs": [],
   "source": [
    "(x_train, y_train), (x_test, y_test) = load_data('cifar-10-batches')"
   ]
  },
  {
   "cell_type": "code",
   "execution_count": 119,
   "metadata": {},
   "outputs": [
    {
     "name": "stdout",
     "output_type": "stream",
     "text": [
      "X_train Shape:  (50000, 32, 32, 3)\n",
      "X_test Shape:  (10000, 32, 32, 3)\n",
      "Y_train Shape:  (50000, 1)\n",
      "Y_test Shape:  (10000, 1)\n"
     ]
    }
   ],
   "source": [
    "print('X_train Shape: ', x_train.shape)\n",
    "print('X_test Shape: ', x_test.shape)\n",
    "\n",
    "print('Y_train Shape: ', y_train.shape)\n",
    "print('Y_test Shape: ', y_test.shape)"
   ]
  },
  {
   "cell_type": "code",
   "execution_count": null,
   "metadata": {},
   "outputs": [],
   "source": []
  },
  {
   "cell_type": "markdown",
   "metadata": {},
   "source": [
    "### Option 2: Load CIFAR 10 (from Cloud) using keras library"
   ]
  },
  {
   "cell_type": "code",
   "execution_count": 1,
   "metadata": {},
   "outputs": [],
   "source": [
    "from tensorflow.keras.datasets import cifar10"
   ]
  },
  {
   "cell_type": "code",
   "execution_count": 2,
   "metadata": {},
   "outputs": [],
   "source": [
    "(x_train, y_train), (x_test, y_test) = cifar10.load_data()"
   ]
  },
  {
   "cell_type": "code",
   "execution_count": 3,
   "metadata": {},
   "outputs": [
    {
     "name": "stdout",
     "output_type": "stream",
     "text": [
      "X_train Shape:  (50000, 32, 32, 3)\n",
      "X_test Shape:  (10000, 32, 32, 3)\n",
      "Y_train Shape:  (50000, 1)\n",
      "Y_test Shape:  (10000, 1)\n"
     ]
    }
   ],
   "source": [
    "print('X_train Shape: ', x_train.shape)\n",
    "print('X_test Shape: ', x_test.shape)\n",
    "\n",
    "print('Y_train Shape: ', y_train.shape)\n",
    "print('Y_test Shape: ', y_test.shape)"
   ]
  },
  {
   "cell_type": "code",
   "execution_count": 4,
   "metadata": {},
   "outputs": [],
   "source": [
    "#step 3\n",
    "X_train  = x_train.flatten().reshape(50000, 3072) / 255.0\n",
    "X_test = x_test.flatten().reshape(10000, 3072) / 255.0\n"
   ]
  },
  {
   "cell_type": "code",
   "execution_count": 5,
   "metadata": {},
   "outputs": [
    {
     "data": {
      "text/plain": [
       "TensorShape([50000, 1, 9])"
      ]
     },
     "execution_count": 5,
     "metadata": {},
     "output_type": "execute_result"
    }
   ],
   "source": [
    "#step 4\n",
    "\n",
    "import tensorflow as tf\n",
    "Y_train = tf.keras.utils.to_categorical(y_train)\n",
    "Y_test = tf.keras.utils.to_categorical(y_test)\n",
    "\n",
    "testeee = tf.one_hot(y_train, depth = 9)\n",
    "tetstss = tf.one_hot(y_test, depth = 9)\n",
    "\n",
    "testeee.shape"
   ]
  },
  {
   "cell_type": "code",
   "execution_count": 6,
   "metadata": {},
   "outputs": [
    {
     "data": {
      "text/plain": [
       "array([[0., 0., 0., ..., 0., 0., 0.],\n",
       "       [0., 0., 0., ..., 0., 0., 1.],\n",
       "       [0., 0., 0., ..., 0., 0., 1.],\n",
       "       ...,\n",
       "       [0., 0., 0., ..., 0., 0., 1.],\n",
       "       [0., 1., 0., ..., 0., 0., 0.],\n",
       "       [0., 1., 0., ..., 0., 0., 0.]], dtype=float32)"
      ]
     },
     "execution_count": 6,
     "metadata": {},
     "output_type": "execute_result"
    }
   ],
   "source": [
    "Y_train"
   ]
  },
  {
   "cell_type": "code",
   "execution_count": 7,
   "metadata": {},
   "outputs": [
    {
     "data": {
      "text/plain": [
       "(10000, 10)"
      ]
     },
     "execution_count": 7,
     "metadata": {},
     "output_type": "execute_result"
    }
   ],
   "source": [
    "Y_test.shape"
   ]
  },
  {
   "cell_type": "code",
   "execution_count": 8,
   "metadata": {},
   "outputs": [
    {
     "data": {
      "text/plain": [
       "array([[0., 0., 0., ..., 0., 0., 0.],\n",
       "       [0., 0., 0., ..., 0., 1., 0.],\n",
       "       [0., 0., 0., ..., 0., 1., 0.],\n",
       "       ...,\n",
       "       [0., 0., 0., ..., 0., 0., 0.],\n",
       "       [0., 1., 0., ..., 0., 0., 0.],\n",
       "       [0., 0., 0., ..., 1., 0., 0.]], dtype=float32)"
      ]
     },
     "execution_count": 8,
     "metadata": {},
     "output_type": "execute_result"
    }
   ],
   "source": [
    "Y_test"
   ]
  },
  {
   "cell_type": "code",
   "execution_count": 9,
   "metadata": {},
   "outputs": [
    {
     "data": {
      "text/plain": [
       "(50000, 10)"
      ]
     },
     "execution_count": 9,
     "metadata": {},
     "output_type": "execute_result"
    }
   ],
   "source": [
    "Y_train.shape"
   ]
  },
  {
   "cell_type": "code",
   "execution_count": null,
   "metadata": {},
   "outputs": [],
   "source": []
  },
  {
   "cell_type": "code",
   "execution_count": 42,
   "metadata": {},
   "outputs": [
    {
     "name": "stdout",
     "output_type": "stream",
     "text": [
      "[[0.0001 0.0001 0.0001 0.0001 0.0001 0.0001 0.0001 0.0001 0.0001 0.0001]\n",
      " [0.0001 0.0001 0.0001 0.0001 0.0001 0.0001 0.0001 0.0001 0.0001 0.0001]\n",
      " [0.0001 0.0001 0.0001 0.0001 0.0001 0.0001 0.0001 0.0001 0.0001 0.0001]\n",
      " [0.0001 0.0001 0.0001 0.0001 0.0001 0.0001 0.0001 0.0001 0.0001 0.0001]\n",
      " [0.0001 0.0001 0.0001 0.0001 0.0001 0.0001 0.0001 0.0001 0.0001 0.0001]\n",
      " [0.0001 0.0001 0.0001 0.0001 0.0001 0.0001 0.0001 0.0001 0.0001 0.0001]\n",
      " [0.0001 0.0001 0.0001 0.0001 0.0001 0.0001 0.0001 0.0001 0.0001 0.0001]\n",
      " [0.0001 0.0001 0.0001 0.0001 0.0001 0.0001 0.0001 0.0001 0.0001 0.0001]\n",
      " [0.0001 0.0001 0.0001 0.0001 0.0001 0.0001 0.0001 0.0001 0.0001 0.0001]\n",
      " [0.0001 0.0001 0.0001 0.0001 0.0001 0.0001 0.0001 0.0001 0.0001 0.0001]]\n"
     ]
    }
   ],
   "source": [
    "import numpy as np\n",
    "\n",
    "#step 5\n",
    "\n",
    "\n",
    "hidden = 10\n",
    "labels = 10\n",
    "\n",
    "\n",
    "bias1 = np.zeros((1, hidden))\n",
    "bias2 = np.zeros((1, labels))\n",
    "\n",
    "weights1 = np.random.randn(3072, hidden)\n",
    "weights2 = np.random.randn(hidden, labels)\n",
    "\n",
    "weights1.fill(0.0001)\n",
    "weights2.fill(0.0001)\n",
    "print(weights2)\n",
    "epochs = 10\n",
    "learningrates = 0.005\n",
    "\n",
    "loss_test_array = []\n",
    "loss_train_array = []\n",
    "\n",
    "trainsss = tf.keras.metrics.CategoricalAccuracy()\n",
    "testsss = tf.keras.metrics.CategoricalAccuracy()\n",
    "\n",
    "accuracy_train = []\n",
    "accuracy_test = []"
   ]
  },
  {
   "cell_type": "code",
   "execution_count": 43,
   "metadata": {},
   "outputs": [],
   "source": [
    "def softmax(x):\n",
    "    return np.exp(x)/sum(np.exp(x))"
   ]
  },
  {
   "cell_type": "code",
   "execution_count": 44,
   "metadata": {},
   "outputs": [],
   "source": [
    "def sigmoid(z):\n",
    "    return 1/(1+np.exp(-z))"
   ]
  },
  {
   "cell_type": "code",
   "execution_count": 45,
   "metadata": {},
   "outputs": [],
   "source": [
    "from sklearn.metrics import accuracy_score, precision_score, recall_score"
   ]
  },
  {
   "cell_type": "code",
   "execution_count": 46,
   "metadata": {
    "scrolled": false
   },
   "outputs": [
    {
     "name": "stderr",
     "output_type": "stream",
     "text": [
      "C:\\Users\\tanda\\Anaconda3\\lib\\site-packages\\ipykernel_launcher.py:2: RuntimeWarning: invalid value encountered in true_divide\n",
      "  \n"
     ]
    }
   ],
   "source": [
    "for x in range(epochs):\n",
    "    \n",
    "    #step 6.1    \n",
    "    h = sigmoid(np.add(np.dot(X_train, weights1), bias1))\n",
    "    z_train = softmax(np.add(np.dot(h, weights2), bias2))\n",
    "    \n",
    "    h2 = sigmoid(np.add(np.dot(X_test, weights1), bias1))\n",
    "    z_test = softmax(np.add(np.dot(h2, weights2), bias2))\n",
    "\n",
    "    #step 6.2\n",
    "    loss_test = np.sum(-np.multiply(Y_test, np.log(z_test)))\n",
    "    loss_train = np.sum(-np.multiply(Y_train, np.log(z_train)))\n",
    "        \n",
    "    loss_test_array.append(loss_test)\n",
    "    loss_train_array.append(loss_train)\n",
    "    \n",
    "    \n",
    "    #step 6.3\n",
    "    deltaW1 = np.dot(np.multiply(np.dot((z_train - Y_train), weights2.T),np.multiply(h, (1 - h))).T, X_train)\n",
    "    deltaB1 = ((np.multiply(np.dot((z_train - Y_train), weights2.T),np.multiply(h, (1 - h)))))\n",
    "    deltaW2 =  np.dot((z_train - Y_train).T, h)\n",
    "    deltaB2 = (z_train-Y_train)\n",
    "   \n",
    "    newbias = []\n",
    "    for x in deltaB1.T:\n",
    "        num = 0\n",
    "        tracker = 0\n",
    "        for number in x:\n",
    "            num = num + number\n",
    "        newbias.append(num)\n",
    "    deltatB1 = np.array([newbias])\n",
    "    \n",
    "    #step 6.4\n",
    "    weights1 = np.subtract(weights1, np.multiply(learningrates,deltaW1.T))\n",
    "    bias1 = np.subtract(bias1, np.multiply(learningrates, deltatB1))\n",
    "    weights2 = np.subtract(weights2, np.multiply(learningrates,deltaW2.T))\n",
    "    bias2 = np.subtract(bias2, np.multiply(learningrates,((np.sum(deltaB2)))))\n",
    "    \n",
    "\n",
    "    \n",
    "    #step 6.5\n",
    "    trainsss.update_state(Y_train, z_train)\n",
    "    trainacc = (trainsss.result().numpy())\n",
    "    \n",
    "    testsss.update_state(Y_test, z_test)\n",
    "    testacc = (testsss.result().numpy())\n",
    "    \n",
    "    accuracy_test.append(trainacc)\n",
    "    accuracy_train.append(testacc)"
   ]
  },
  {
   "cell_type": "code",
   "execution_count": null,
   "metadata": {},
   "outputs": [],
   "source": []
  },
  {
   "cell_type": "code",
   "execution_count": 47,
   "metadata": {},
   "outputs": [
    {
     "data": {
      "text/plain": [
       "[<matplotlib.lines.Line2D at 0x1dd138b32c8>]"
      ]
     },
     "execution_count": 47,
     "metadata": {},
     "output_type": "execute_result"
    },
    {
     "data": {
      "image/png": "[encoded data removed]",
      "text/plain": [
       "<Figure size 432x288 with 1 Axes>"
      ]
     },
     "metadata": {
      "needs_background": "light"
     },
     "output_type": "display_data"
    }
   ],
   "source": [
    "#step7\n",
    "import matplotlib.pyplot as plt\n",
    "plt.title('Training and Test Loss')\n",
    "plt.plot(loss_train_array, color='red', label='Training Data')\n",
    "plt.plot(loss_test_array, color='blue', label='Test Data')"
   ]
  },
  {
   "cell_type": "code",
   "execution_count": 48,
   "metadata": {},
   "outputs": [
    {
     "data": {
      "text/plain": [
       "[<matplotlib.lines.Line2D at 0x1dd1390b208>]"
      ]
     },
     "execution_count": 48,
     "metadata": {},
     "output_type": "execute_result"
    },
    {
     "data": {
      "image/png": "[encoded data removed]",
      "text/plain": [
       "<Figure size 432x288 with 1 Axes>"
      ]
     },
     "metadata": {
      "needs_background": "light"
     },
     "output_type": "display_data"
    }
   ],
   "source": [
    "plt.title('Training and Test Accuracy')\n",
    "plt.plot(accuracy_train, color='red', label='Training Data')\n",
    "plt.plot(accuracy_test, color='blue', label='Test Data')"
   ]
  },
  {
   "cell_type": "code",
   "execution_count": 51,
   "metadata": {},
   "outputs": [
    {
     "name": "stdout",
     "output_type": "stream",
     "text": [
      "[[ 82   1  62 504  52 101 140  43   7   8]\n",
      " [ 64   3  70 285  93  67 278  87  33  20]\n",
      " [ 76   1  96 343  67  41 292  50   8  26]\n",
      " [ 50   0  79 263  85  59 325 101  16  22]\n",
      " [ 43   2 111 273  55  64 343  88   9  12]\n",
      " [ 56   3  63 268  90  61 320  88  18  33]\n",
      " [ 56   0 129 221  36  49 386  91  14  18]\n",
      " [ 46   3  76 248  62  54 379 103  16  13]\n",
      " [ 93   1  54 584  38  74 104  37   7   8]\n",
      " [ 48   0  84 381  61  50 309  40   7  20]]\n"
     ]
    }
   ],
   "source": [
    "from sklearn.metrics import confusion_matrix\n",
    "\n",
    "ztest = []\n",
    "for x in z_test:\n",
    "    t = -1\n",
    "    maxindex = -1\n",
    "    temindex = 0\n",
    "    for y in x:\n",
    "        if y > t:\n",
    "            t = y\n",
    "            maxindex = temindex\n",
    "        temindex+=1\n",
    "    ztest.append(maxindex)\n",
    "        \n",
    "\n",
    "        \n",
    "print(confusion_matrix(y_test, ztest))"
   ]
  },
  {
   "cell_type": "code",
   "execution_count": 272,
   "metadata": {},
   "outputs": [
    {
     "name": "stdout",
     "output_type": "stream",
     "text": [
      "Model: \"functional_19\"\n",
      "_________________________________________________________________\n",
      "Layer (type)                 Output Shape              Param #   \n",
      "=================================================================\n",
      "input_4 (InputLayer)         [(None, 32, 32, 3)]       0         \n",
      "_________________________________________________________________\n",
      "conv2d_21 (Conv2D)           (None, 32, 32, 16)        448       \n",
      "_________________________________________________________________\n",
      "max_pooling2d_9 (MaxPooling2 (None, 16, 16, 16)        0         \n",
      "_________________________________________________________________\n",
      "conv2d_22 (Conv2D)           (None, 16, 16, 8)         1160      \n",
      "_________________________________________________________________\n",
      "max_pooling2d_10 (MaxPooling (None, 8, 8, 8)           0         \n",
      "_________________________________________________________________\n",
      "conv2d_23 (Conv2D)           (None, 8, 8, 8)           584       \n",
      "_________________________________________________________________\n",
      "max_pooling2d_11 (MaxPooling (None, 4, 4, 8)           0         \n",
      "_________________________________________________________________\n",
      "conv2d_24 (Conv2D)           (None, 4, 4, 8)           584       \n",
      "_________________________________________________________________\n",
      "up_sampling2d_9 (UpSampling2 (None, 8, 8, 8)           0         \n",
      "_________________________________________________________________\n",
      "conv2d_25 (Conv2D)           (None, 8, 8, 8)           584       \n",
      "_________________________________________________________________\n",
      "up_sampling2d_10 (UpSampling (None, 16, 16, 8)         0         \n",
      "_________________________________________________________________\n",
      "conv2d_26 (Conv2D)           (None, 16, 16, 16)        1168      \n",
      "_________________________________________________________________\n",
      "up_sampling2d_11 (UpSampling (None, 32, 32, 16)        0         \n",
      "_________________________________________________________________\n",
      "conv2d_27 (Conv2D)           (None, 32, 32, 3)         435       \n",
      "=================================================================\n",
      "Total params: 4,963\n",
      "Trainable params: 4,963\n",
      "Non-trainable params: 0\n",
      "_________________________________________________________________\n",
      "391/391 [==============================] - 107s 273ms/step - loss: 0.6606 - val_loss: 0.6266\n"
     ]
    },
    {
     "data": {
      "text/plain": [
       "<tensorflow.python.keras.callbacks.History at 0x1591454a648>"
      ]
     },
     "execution_count": 272,
     "metadata": {},
     "output_type": "execute_result"
    }
   ],
   "source": [
    "import keras\n",
    "from keras import layers\n",
    "from keras.callbacks import TensorBoard\n",
    "\n",
    "input_img = tf.keras.Input(shape=(32, 32, 3))\n",
    " \n",
    "x = layers.Conv2D(16, (3, 3), activation='relu', padding='same')(input_img)\n",
    "x = layers.MaxPooling2D((2, 2), padding='same')(x)\n",
    "x = layers.Conv2D(8, (3, 3), activation='relu', padding='same')(x)\n",
    "x = layers.MaxPooling2D((2, 2), padding='same')(x)\n",
    "x = layers.Conv2D(8, (3, 3), activation='relu', padding='same')(x)\n",
    "encoded = layers.MaxPooling2D((2, 2), padding='same')(x)\n",
    "\n",
    "# at this point the representation is (4, 4, 8) i.e. 128-dimensional\n",
    "\n",
    "x = layers.Conv2D(8, (3, 3), activation='relu', padding='same')(encoded)\n",
    "x = layers.UpSampling2D((2, 2))(x)\n",
    "x = layers.Conv2D(8, (3, 3), activation='relu', padding='same')(x)\n",
    "x = layers.UpSampling2D((2, 2))(x)\n",
    "x = layers.Conv2D(16, (3, 3), activation='relu', padding='same')(x)\n",
    "x = layers.UpSampling2D((2, 2))(x)\n",
    "decoded = layers.Conv2D(3, (3, 3), activation='sigmoid', padding='same')(x)\n",
    "\n",
    "autoencoder = keras.Model(input_img, decoded)\n",
    "optim = tf.keras.optimizers.SGD(learning_rate=0.1, name='SGD')\n",
    "autoencoder.compile(optimizer=optim, loss='binary_crossentropy')\n",
    "\n",
    "scaled_x_train = x_train/255\n",
    "scaled_x_test = x_test/255 \n",
    "\n",
    "autoencoder.summary()\n",
    "\n",
    "autoencoder.fit(scaled_x_train, scaled_x_train,\n",
    "                epochs=25,\n",
    "                batch_size=128,\n",
    "                shuffle=True,\n",
    "                validation_data=(scaled_x_test, scaled_x_test))"
   ]
  },
  {
   "cell_type": "code",
   "execution_count": 299,
   "metadata": {
    "scrolled": true
   },
   "outputs": [
    {
     "name": "stdout",
     "output_type": "stream",
     "text": [
      "KMeans(algorithm='auto', copy_x=True, init='k-means++', max_iter=10,\n",
      "       n_clusters=10, n_init=10, n_jobs=None, precompute_distances='auto',\n",
      "       random_state=0, tol=0.0001, verbose=0)\n",
      "[[1.0085431e-03 1.1417214e-02 8.5323143e-01 ... 6.3388109e-02\n",
      "  3.0717266e-01 2.5593543e-01]\n",
      " [1.9376675e-03 6.0884580e-03 1.2026749e+00 ... 2.0784352e-02\n",
      "  7.2029757e-01 5.0957620e-01]\n",
      " [3.9483402e-03 7.1535558e-03 1.3227166e+00 ... 9.6203811e-02\n",
      "  1.7676829e-01 1.6181563e-01]\n",
      " ...\n",
      " [1.8055958e-04 1.3938767e-01 2.4741942e-01 ... 4.1541636e-02\n",
      "  3.5972258e-01 3.4386161e-01]\n",
      " [1.9214803e-04 1.4017862e-01 2.5923371e-01 ... 1.0378281e-01\n",
      "  6.8675458e-02 1.1658104e-01]\n",
      " [9.2985388e-04 2.0325799e-02 9.1296858e-01 ... 4.6496104e-02\n",
      "  2.7927327e-01 3.4958830e-01]]\n",
      "KMeans(algorithm='auto', copy_x=True, init='k-means++', max_iter=10,\n",
      "       n_clusters=10, n_init=10, n_jobs=None, precompute_distances='auto',\n",
      "       random_state=0, tol=0.0001, verbose=0)\n",
      "[[6.1014295e-04 3.2814309e-02 7.7388674e-01 ... 6.9514230e-02\n",
      "  1.5266259e-01 2.4637502e-01]\n",
      " [6.1077182e-05 1.4955272e-01 2.2836977e-01 ... 9.9298269e-02\n",
      "  7.7488035e-02 1.2773648e-01]\n",
      " [1.4384347e-04 7.3578089e-02 5.1221931e-01 ... 1.6037602e-02\n",
      "  6.6185987e-01 5.4114592e-01]\n",
      " ...\n",
      " [1.9200277e-03 3.7837587e-03 1.1517243e+00 ... 4.4892192e-02\n",
      "  4.6935263e-01 3.5055736e-01]\n",
      " [3.7600696e-03 3.6474504e-03 1.4763491e+00 ... 9.4672740e-02\n",
      "  1.7415434e-01 1.6183572e-01]\n",
      " [1.3716378e-03 5.5326521e-04 1.7980474e+00 ... 1.3918489e-02\n",
      "  1.0636127e+00 7.1259296e-01]]\n"
     ]
    }
   ],
   "source": [
    "from sklearn.cluster import KMeans\n",
    "import numpy as np\n",
    "encoder = keras.Model(input_img,encoded)\n",
    "encoded_imgs=encoder.predict(scaled_x_train)\n",
    "encoded_imgs=encoded_imgs.reshape(50000, 128)\n",
    "\n",
    "kmeans=KMeans(algorithm='auto', copy_x=True, init='k-means++', max_iter=10, n_clusters=10, n_init=10, random_state=0, tol=0.0001, verbose=0)\n",
    "\n",
    "encoded_imgs_fit=kmeans.fit(encoded_imgs)\n",
    "print(encoded_imgs_fit)\n",
    "train_predictions = encoded_imgs_fit.cluster_centers_\n",
    "print(train_predictions)\n",
    "\n",
    "test_encoder = keras.Model(input_img,encoded)\n",
    "test_encoded_imgs=test_encoder.predict(scaled_x_test)\n",
    "test_encoded_imgs=test_encoded_imgs.reshape(10000, 128)\n",
    "\n",
    "test_kmeans=KMeans(algorithm='auto', copy_x=True, init='k-means++', max_iter=10, n_clusters=10, n_init=10, random_state=0, tol=0.0001, verbose=0)\n",
    "\n",
    "test_encoded_imgs_fit=test_kmeans.fit(test_encoded_imgs)\n",
    "print(test_encoded_imgs_fit)\n",
    "test_predictions = test_encoded_imgs_fit.cluster_centers_\n",
    "print(test_predictions)\n"
   ]
  },
  {
   "cell_type": "code",
   "execution_count": 300,
   "metadata": {},
   "outputs": [],
   "source": [
    "from sklearn.metrics import confusion_matrix"
   ]
  },
  {
   "cell_type": "code",
   "execution_count": 340,
   "metadata": {},
   "outputs": [],
   "source": [
    "labels=encoded_imgs_fit.labels_\n",
    "test_labels=test_encoded_imgs_fit.labels_\n",
    "\n",
    "train_confusionmatrix=confusion_matrix(labels, y_train)\n",
    "test_confusionmatrix=confusion_matrix(test_labels, y_test)\n",
    "\n",
    "test=0\n",
    "for row in test_confusionmatrix:\n",
    "  test+=np.max(row)\n",
    "\n",
    "train=0\n",
    "for row in train_confusionmatrix:\n",
    "  train+=np.max(row)"
   ]
  },
  {
   "cell_type": "code",
   "execution_count": 341,
   "metadata": {},
   "outputs": [],
   "source": [
    "accuracy_train=(train/50000)*100\n",
    "accuracy_test=(test/10000)*100"
   ]
  },
  {
   "cell_type": "code",
   "execution_count": 345,
   "metadata": {},
   "outputs": [
    {
     "name": "stdout",
     "output_type": "stream",
     "text": [
      "[[ 470  708 1141  681  974  649  947  826  399  672]\n",
      " [ 934  294  757  594  436  606  442  633  408  412]\n",
      " [ 492  831  249  295  258  194  139  705  868 1630]\n",
      " [ 641  564  152  158  157  121   60  352 1251  923]\n",
      " [ 298  247  320  722  560  747  328  566  281  101]\n",
      " [ 346  801  420  529  271  712  625  409  434  275]\n",
      " [1029  319  427  371  150  260  241  196  314  271]\n",
      " [ 117  282  465  594  934  504  626  479  122  114]\n",
      " [ 285  515  844  626 1055  412 1447  409  171  252]\n",
      " [ 388  439  225  430  205  795  145  425  752  350]]\n"
     ]
    }
   ],
   "source": [
    "print(train_confusionmatrix)"
   ]
  },
  {
   "cell_type": "code",
   "execution_count": 346,
   "metadata": {},
   "outputs": [
    {
     "name": "stdout",
     "output_type": "stream",
     "text": [
      "[[103 168  50  90  43 153  46  91 147  84]\n",
      " [ 43 112 168 118 243  84 304  67  21  48]\n",
      " [ 50  41  64 140  96 171  53 121  64  21]\n",
      " [ 68 163 191 130 171  96 171 133  92 157]\n",
      " [100 106  40  33  15  32  13  68 246 141]\n",
      " [190  37 109  99  64 117  50  78  69  54]\n",
      " [ 57  98 131 183 204 158 187 122  64  35]\n",
      " [123  92 154 109 114 109 112 149  84 105]\n",
      " [ 79 130  27  45  42  36  19 140 182 309]\n",
      " [187  53  66  53   8  44  45  31  31  46]]\n"
     ]
    }
   ],
   "source": [
    "print(test_confusionmatrix)"
   ]
  },
  {
   "cell_type": "code",
   "execution_count": 347,
   "metadata": {},
   "outputs": [
    {
     "data": {
      "text/plain": [
       "21.240000000000002"
      ]
     },
     "execution_count": 347,
     "metadata": {},
     "output_type": "execute_result"
    }
   ],
   "source": [
    "accuracy_test"
   ]
  },
  {
   "cell_type": "code",
   "execution_count": 348,
   "metadata": {},
   "outputs": [
    {
     "data": {
      "text/plain": [
       "21.418"
      ]
     },
     "execution_count": 348,
     "metadata": {},
     "output_type": "execute_result"
    }
   ],
   "source": [
    "accuracy_train"
   ]
  }
 ],
 "metadata": {
  "kernelspec": {
   "display_name": "Python 3",
   "language": "python",
   "name": "python3"
  },
  "language_info": {
   "codemirror_mode": {
    "name": "ipython",
    "version": 3
   },
   "file_extension": ".py",
   "mimetype": "text/x-python",
   "name": "python",
   "nbconvert_exporter": "python",
   "pygments_lexer": "ipython3",
   "version": "3.7.4"
  }
 },
 "nbformat": 4,
 "nbformat_minor": 4
}
